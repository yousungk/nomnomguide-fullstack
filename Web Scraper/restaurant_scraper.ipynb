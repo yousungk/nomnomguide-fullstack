{
 "cells": [
  {
   "cell_type": "code",
   "execution_count": 1,
   "id": "initial_id",
   "metadata": {
    "collapsed": true,
    "ExecuteTime": {
     "end_time": "2024-03-17T13:43:14.900468Z",
     "start_time": "2024-03-17T13:43:14.867386Z"
    }
   },
   "outputs": [],
   "source": [
    "from selenium import webdriver\n",
    "from selenium.webdriver.common.by import By\n",
    "from selenium.webdriver.common.keys import Keys\n",
    "from selenium.common.exceptions import NoSuchElementException\n",
    "import time\n",
    "import sys\n",
    "import datetime\n",
    "import sqlite3"
   ]
  },
  {
   "cell_type": "code",
   "execution_count": null,
   "outputs": [],
   "source": [
    "# wrap into function\n",
    "def scrape_restaurant(query):"
   ],
   "metadata": {
    "collapsed": false
   },
   "id": "a6c5ae552105570f"
  },
  {
   "cell_type": "code",
   "execution_count": 2,
   "outputs": [],
   "source": [
    "    # set up driver\n",
    "    chrome_options = webdriver.ChromeOptions()\n",
    "    chrome_options.add_experimental_option(\"detach\", True)\n",
    "    chrome_options.add_argument('--disable-blink-features=AutomationControlled')\n",
    "    driver = webdriver.Chrome(options=chrome_options)\n",
    "    \n",
    "    # input variables\n",
    "    # query = \"Rosy's Taco Bar\"\n",
    "\n",
    "    description = \"Taco bar serving Mexican street food, margaritas & tequila in a colorful, casual setting. Must try the margaritas and the loaded tacos during Happy Hour!\"\n",
    "    \n",
    "    # connect to database\n",
    "    db = sqlite3.connect(\"booking_data.db\")\n",
    "    cursor = db.cursor()\n",
    "    \n",
    "    driver.get('https://www.google.com/?hl=en')\n",
    "    driver.find_element(By.NAME, \"q\").send_keys(query, Keys.ENTER)\n",
    "    \n",
    "    time.sleep(2)"
   ],
   "metadata": {
    "collapsed": false,
    "ExecuteTime": {
     "end_time": "2024-03-17T13:43:30.134512Z",
     "start_time": "2024-03-17T13:43:23.071969Z"
    }
   },
   "id": "4cd421aa405d2b97"
  },
  {
   "cell_type": "code",
   "execution_count": 3,
   "outputs": [
    {
     "name": "stdout",
     "output_type": "stream",
     "text": [
      "2024-03-17\n",
      "09:43:30\n"
     ]
    }
   ],
   "source": [
    "    # get scraping date and time\n",
    "    scraped_date = datetime.datetime.now().strftime('%Y-%m-%d')\n",
    "    print(scraped_date)\n",
    "    scraped_time = datetime.datetime.now().strftime('%H:%M:%S')\n",
    "    print(scraped_time)"
   ],
   "metadata": {
    "collapsed": false,
    "ExecuteTime": {
     "end_time": "2024-03-17T13:43:30.716968Z",
     "start_time": "2024-03-17T13:43:30.708217Z"
    }
   },
   "id": "46f7c3fca1d30691"
  },
  {
   "cell_type": "code",
   "execution_count": 4,
   "outputs": [
    {
     "name": "stdout",
     "output_type": "stream",
     "text": [
      "Rosy's Taco Bar\n"
     ]
    }
   ],
   "source": [
    "    # get name\n",
    "    try:\n",
    "        restaurant_name = driver.find_element(By.CSS_SELECTOR, f\"div[data-attrid='title']\").get_attribute(\"innerText\")\n",
    "        print(restaurant_name)\n",
    "    except NoSuchElementException:\n",
    "        restaurant_name = driver.find_element(By.CSS_SELECTOR, f\"h2[data-attrid='title']\").get_attribute(\"innerText\")\n",
    "        print(restaurant_name)\n",
    "    except:\n",
    "        print(\"Could not find restaurant name\")"
   ],
   "metadata": {
    "collapsed": false,
    "ExecuteTime": {
     "end_time": "2024-03-17T13:43:33.057103Z",
     "start_time": "2024-03-17T13:43:33.030706Z"
    }
   },
   "id": "8446c666ee2a031c"
  },
  {
   "cell_type": "code",
   "execution_count": 5,
   "outputs": [
    {
     "name": "stdout",
     "output_type": "stream",
     "text": [
      "2220 Walnut St, Philadelphia, PA 19103\n"
     ]
    }
   ],
   "source": [
    "    # get address\n",
    "    try:\n",
    "        restaurant_address = driver.find_element(By.CSS_SELECTOR,\n",
    "                                                 f\"div[data-attrid='kc:/location/location:address']\").get_attribute(\"innerText\")\n",
    "    except NoSuchElementException:\n",
    "        restaurant_address = driver.find_element(By.CSS_SELECTOR,\n",
    "                                                 f\"h2[data-attrid='kc:/location/location:address']\").get_attribute(\"innerText\")\n",
    "    \n",
    "    restaurant_address = restaurant_address.replace(\"Address: \", \"\")\n",
    "    print(restaurant_address)"
   ],
   "metadata": {
    "collapsed": false,
    "ExecuteTime": {
     "end_time": "2024-03-17T13:43:35.422825Z",
     "start_time": "2024-03-17T13:43:35.403234Z"
    }
   },
   "id": "e119623c837f04a9"
  },
  {
   "cell_type": "code",
   "execution_count": 6,
   "outputs": [
    {
     "name": "stdout",
     "output_type": "stream",
     "text": [
      "1007\n"
     ]
    }
   ],
   "source": [
    "    # get review count\n",
    "    review_count = driver.find_element(By.PARTIAL_LINK_TEXT, \"Google reviews\").get_attribute(\"innerText\")\n",
    "    review_count = review_count.split(\" \")[0]\n",
    "    review_count = review_count.replace(\",\", \"\")\n",
    "    print(\"Review count: \" + review_count)        "
   ],
   "metadata": {
    "collapsed": false,
    "ExecuteTime": {
     "end_time": "2024-03-17T13:43:36.591143Z",
     "start_time": "2024-03-17T13:43:36.507141Z"
    }
   },
   "id": "a9919912ce8cc09e"
  },
  {
   "cell_type": "code",
   "execution_count": 7,
   "outputs": [
    {
     "name": "stdout",
     "output_type": "stream",
     "text": [
      "4.0\n"
     ]
    }
   ],
   "source": [
    "    # get rating\n",
    "    rating = driver.find_element(By.CSS_SELECTOR, \"span[aria-label*='out of 5']\").get_attribute(\"aria-label\") \n",
    "    rating = rating.split(\" \")[1]\n",
    "    print(\"Rating: \" + rating)"
   ],
   "metadata": {
    "collapsed": false,
    "ExecuteTime": {
     "end_time": "2024-03-17T13:43:38.750424Z",
     "start_time": "2024-03-17T13:43:38.729464Z"
    }
   },
   "id": "76b0e6264ea5dbc4"
  },
  {
   "cell_type": "code",
   "execution_count": 8,
   "outputs": [
    {
     "ename": "IntegrityError",
     "evalue": "UNIQUE constraint failed: restaurants.restaurant_name",
     "output_type": "error",
     "traceback": [
      "\u001B[0;31m---------------------------------------------------------------------------\u001B[0m",
      "\u001B[0;31mIntegrityError\u001B[0m                            Traceback (most recent call last)",
      "Cell \u001B[0;32mIn[8], line 4\u001B[0m\n\u001B[1;32m      1\u001B[0m \u001B[38;5;66;03m# insert data into database\u001B[39;00m\n\u001B[1;32m      2\u001B[0m row \u001B[38;5;241m=\u001B[39m (restaurant_name, restaurant_address, rating, review_count, description, scraped_date, scraped_time)\n\u001B[0;32m----> 4\u001B[0m \u001B[43mcursor\u001B[49m\u001B[38;5;241;43m.\u001B[39;49m\u001B[43mexecute\u001B[49m\u001B[43m(\u001B[49m\n\u001B[1;32m      5\u001B[0m \u001B[43m    \u001B[49m\u001B[38;5;124;43m\"\u001B[39;49m\u001B[38;5;124;43mINSERT INTO restaurants (restaurant_name, restaurant_address, rating, review_count, description, scraped_date, scraped_time) VALUES (?, ?, ?, ?, ?, ?, ?)\u001B[39;49m\u001B[38;5;124;43m\"\u001B[39;49m\u001B[43m,\u001B[49m\u001B[43m \u001B[49m\u001B[43mrow\u001B[49m\u001B[43m)\u001B[49m\n\u001B[1;32m      7\u001B[0m db\u001B[38;5;241m.\u001B[39mcommit()\n\u001B[1;32m      9\u001B[0m \u001B[38;5;66;03m# close connections\u001B[39;00m\n",
      "\u001B[0;31mIntegrityError\u001B[0m: UNIQUE constraint failed: restaurants.restaurant_name"
     ]
    }
   ],
   "source": [
    "    # insert data into database\n",
    "    row = (restaurant_name, restaurant_address, rating, review_count, description, scraped_date, scraped_time)\n",
    "    \n",
    "    try: \n",
    "        cursor.execute(\n",
    "            \"INSERT INTO restaurants (restaurant_name, restaurant_address, rating, review_count, description, scraped_date, scraped_time) VALUES (?, ?, ?, ?, ?, ?, ?)\", row)\n",
    "    except sqlite3.IntegrityError as e:\n",
    "        print(\"Restaurant already exists in database\")\n",
    "    \n",
    "    db.commit()\n",
    "    \n",
    "    # close connections\n",
    "    driver.quit()"
   ],
   "metadata": {
    "collapsed": false,
    "ExecuteTime": {
     "end_time": "2024-03-17T13:43:43.232058Z",
     "start_time": "2024-03-17T13:43:43.121436Z"
    }
   },
   "id": "7bb182b633eb1bb2"
  }
 ],
 "metadata": {
  "kernelspec": {
   "display_name": "Python 3",
   "language": "python",
   "name": "python3"
  },
  "language_info": {
   "codemirror_mode": {
    "name": "ipython",
    "version": 2
   },
   "file_extension": ".py",
   "mimetype": "text/x-python",
   "name": "python",
   "nbconvert_exporter": "python",
   "pygments_lexer": "ipython2",
   "version": "2.7.6"
  }
 },
 "nbformat": 4,
 "nbformat_minor": 5
}
